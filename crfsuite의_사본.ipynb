{
  "nbformat": 4,
  "nbformat_minor": 0,
  "metadata": {
    "colab": {
      "name": "crfsuite의 사본",
      "provenance": [],
      "collapsed_sections": [],
      "mount_file_id": "12NJk3fHXADd4o3rWjhwhKPt9NiTq_GVJ",
      "authorship_tag": "ABX9TyP8ME9SH6CwL5xQRVmdwE9g",
      "include_colab_link": true
    },
    "kernelspec": {
      "name": "python3",
      "display_name": "Python 3"
    },
    "language_info": {
      "name": "python"
    }
  },
  "cells": [
    {
      "cell_type": "markdown",
      "metadata": {
        "id": "view-in-github",
        "colab_type": "text"
      },
      "source": [
        "<a href=\"https://colab.research.google.com/github/h2llo/h2llo/blob/Thisismain/crfsuite%EC%9D%98_%EC%82%AC%EB%B3%B8.ipynb\" target=\"_parent\"><img src=\"https://colab.research.google.com/assets/colab-badge.svg\" alt=\"Open In Colab\"/></a>"
      ]
    },
    {
      "cell_type": "code",
      "metadata": {
        "colab": {
          "base_uri": "https://localhost:8080/"
        },
        "id": "gNTYFPFZm_Qw",
        "outputId": "27a10b23-5075-4313-845a-2629da65ee79"
      },
      "source": [
        "from pprint import pprint\n",
        "\n",
        "with open('/content/drive/MyDrive/Colab Notebooks/data/134963_norm.txt', encoding='utf-8') as f:\n",
        "    docs = [doc.strip() for doc in f]\n",
        "\n",
        "print('n docs = %d' % len(docs))\n",
        "pprint(docs[:5])"
      ],
      "execution_count": null,
      "outputs": [
        {
          "output_type": "stream",
          "name": "stdout",
          "text": [
            "n docs = 15603\n",
            "['시사회에서 보고왔습니다동화와 재즈뮤지컬의 만남 지루하지않고 재밌습니다',\n",
            " '사랑과 꿈 그 흐름의 아름다움을 음악과 영상으로 최대한 담아놓았다 배우들 연기는 두말할것없고',\n",
            " '지금껏 영화 평가 해본 적이 없는데 진짜 최고네요 색감 스토리 음악 연기 모두ㅜㅜ최고입니다',\n",
            " '방금 시사회 보고 왔어요 배우들 매력이 눈을 뗄 수가 없게 만드네요 한편의 그림 같은 장면들도 많고 음악과 춤이 눈과 귀를 사로 잡았어요 '\n",
            " '한번 더 보고 싶네요',\n",
            " '초반부터 끝까지 재미있게 잘보다가 결말에서 고국마 왕창먹음 힐링 받는 느낌들다가 막판에 기분 잡쳤습니다 마치 감독이 하고싶은 말은 '\n",
            " '너희들이 원하는 결말은 이거지 하지만 현실은 이거다 라고 말하고 싶었나보군요']\n"
          ]
        }
      ]
    },
    {
      "cell_type": "code",
      "metadata": {
        "colab": {
          "base_uri": "https://localhost:8080/"
        },
        "id": "5opvHe6Ro0jh",
        "outputId": "e14a7cc4-49b5-4dc3-e04a-ba9447d585be"
      },
      "source": [
        "pip install pycrfsuite_spacing"
      ],
      "execution_count": null,
      "outputs": [
        {
          "output_type": "stream",
          "name": "stdout",
          "text": [
            "Requirement already satisfied: pycrfsuite_spacing in /usr/local/lib/python3.7/dist-packages (1.0.2)\n",
            "Requirement already satisfied: python-crfsuite>=0.9.2 in /usr/local/lib/python3.7/dist-packages (from pycrfsuite_spacing) (0.9.7)\n"
          ]
        }
      ]
    },
    {
      "cell_type": "code",
      "metadata": {
        "colab": {
          "base_uri": "https://localhost:8080/"
        },
        "id": "q_3F4-Pgo46R",
        "outputId": "eb532c2a-6295-4685-85f1-2624dec80cc3"
      },
      "source": [
        "sys.path"
      ],
      "execution_count": null,
      "outputs": [
        {
          "output_type": "execute_result",
          "data": {
            "text/plain": [
              "['',\n",
              " '/content',\n",
              " '/env/python',\n",
              " '/usr/lib/python37.zip',\n",
              " '/usr/lib/python3.7',\n",
              " '/usr/lib/python3.7/lib-dynload',\n",
              " '/usr/local/lib/python3.7/dist-packages',\n",
              " '/usr/lib/python3/dist-packages',\n",
              " '/usr/local/lib/python3.7/dist-packages/IPython/extensions',\n",
              " '/root/.ipython',\n",
              " '../',\n",
              " '../',\n",
              " '../']"
            ]
          },
          "metadata": {},
          "execution_count": 40
        }
      ]
    },
    {
      "cell_type": "code",
      "metadata": {
        "id": "ZQNtWSa3nIti"
      },
      "source": [
        "import sys\n",
        "sys.path.append('../') #sys.path : 파이썬 라이브러리들이 설치되어있는 디렉터리들을 보여준다. \n",
        "                       #append 는 추가, '../' 모듈을 추가 해준다는 말임.\n",
        "\n",
        "from pycrfsuite_spacing import TemplateGenerator\n",
        "from pycrfsuite_spacing import CharacterFeatureTransformer\n",
        "from pycrfsuite_spacing import sent_to_chartags\n",
        "from pycrfsuite_spacing import sent_to_xy"
      ],
      "execution_count": null,
      "outputs": []
    },
    {
      "cell_type": "markdown",
      "metadata": {
        "id": "9yx3lblLzIJ8"
      },
      "source": [
        "TemplateGenerator와 FeatureTransformer를 이용하면 띄어쓰기가 포함된 문장을 다음과 같이 template에 의하여 정의되는 character feature로 변환해 줍니다. "
      ]
    },
    {
      "cell_type": "markdown",
      "metadata": {
        "id": "3dAho6-Zr7FK"
      },
      "source": [
        "sent_to_chars는 띄어쓰기가 있는 문장을 글자와 띄어쓰기 태그로 변환. 띄어쓰기/붙여쓰기의 태그를 지정할 수 있음. default 는 space=1,nonspace=0 으로 int"
      ]
    },
    {
      "cell_type": "code",
      "metadata": {
        "colab": {
          "base_uri": "https://localhost:8080/"
        },
        "id": "4PrR9hzCourh",
        "outputId": "ac10e101-e320-4b7e-968f-6a3615541d7a"
      },
      "source": [
        "chars, tags = sent_to_chartags('이것도 너프해 보시지', space='1', nonspace='0')\n",
        "print(chars)\n",
        "print(tags)"
      ],
      "execution_count": null,
      "outputs": [
        {
          "output_type": "stream",
          "name": "stdout",
          "text": [
            "이것도너프해보시지\n",
            "['0', '0', '1', '0', '0', '1', '0', '0', '1']\n"
          ]
        }
      ]
    },
    {
      "cell_type": "code",
      "metadata": {
        "colab": {
          "base_uri": "https://localhost:8080/"
        },
        "id": "wPCRZxAzo-PZ",
        "outputId": "1f6ee1be-acb6-478c-9dcc-e8553ffeb2b6"
      },
      "source": [
        "sent_to_chartags('')"
      ],
      "execution_count": null,
      "outputs": [
        {
          "output_type": "execute_result",
          "data": {
            "text/plain": [
              "('', [])"
            ]
          },
          "metadata": {},
          "execution_count": 26
        }
      ]
    },
    {
      "cell_type": "markdown",
      "metadata": {
        "id": "PLRHEziPsjv7"
      },
      "source": [
        "빈 문자가 입력되면 빈 글자와 empty list 가 변환"
      ]
    },
    {
      "cell_type": "code",
      "metadata": {
        "colab": {
          "base_uri": "https://localhost:8080/"
        },
        "id": "Giz-kO7LpAex",
        "outputId": "ecc80342-23e2-486b-eb72-8dd82e1d6dc1"
      },
      "source": [
        "TemplateGenerator(begin=-2, end=2, min_range_length=3,max_range_length=3).tolist()"
      ],
      "execution_count": null,
      "outputs": [
        {
          "output_type": "execute_result",
          "data": {
            "text/plain": [
              "[(-2, 0), (-1, 1), (0, 2)]"
            ]
          },
          "metadata": {},
          "execution_count": 27
        }
      ]
    },
    {
      "cell_type": "markdown",
      "metadata": {
        "id": "AtEQxfa5sp-q"
      },
      "source": [
        "TemplateGenerator 는 앞 2글자부터 뒤 2글자 까지 길이가 3인 templates 를 만든다는 의미.\n",
        "반드시 현재 글자(index 0)가 포함된 부분만 template으로 만듬"
      ]
    },
    {
      "cell_type": "code",
      "metadata": {
        "colab": {
          "base_uri": "https://localhost:8080/"
        },
        "id": "nfQgTuFEpENh",
        "outputId": "e80f5481-db1f-421d-a356-e7f197829534"
      },
      "source": [
        "to_feature = CharacterFeatureTransformer(\n",
        "    TemplateGenerator(begin=-2, \n",
        "    end=2,\n",
        "    min_range_length=3,\n",
        "    max_range_length=3)\n",
        ")\n",
        "\n",
        "x, y = sent_to_xy('이것도 너프해 보시지', to_feature)\n",
        "pprint(x)\n",
        "print(y)"
      ],
      "execution_count": null,
      "outputs": [
        {
          "output_type": "stream",
          "name": "stdout",
          "text": [
            "[['X[0,2]=이것도'],\n",
            " ['X[-1,1]=이것도', 'X[0,2]=것도너'],\n",
            " ['X[-2,0]=이것도', 'X[-1,1]=것도너', 'X[0,2]=도너프'],\n",
            " ['X[-2,0]=것도너', 'X[-1,1]=도너프', 'X[0,2]=너프해'],\n",
            " ['X[-2,0]=도너프', 'X[-1,1]=너프해', 'X[0,2]=프해보'],\n",
            " ['X[-2,0]=너프해', 'X[-1,1]=프해보', 'X[0,2]=해보시'],\n",
            " ['X[-2,0]=프해보', 'X[-1,1]=해보시', 'X[0,2]=보시지'],\n",
            " ['X[-2,0]=해보시', 'X[-1,1]=보시지'],\n",
            " ['X[-2,0]=보시지']]\n",
            "['0', '0', '1', '0', '0', '1', '0', '0', '1']\n"
          ]
        }
      ]
    },
    {
      "cell_type": "markdown",
      "metadata": {
        "id": "U5wp0lbJs9NC"
      },
      "source": [
        "to_feature : template을 이용하여 문장에서 features를 만드는 함수. CharacterFeatureTransformer의 instance는 callable이다."
      ]
    },
    {
      "cell_type": "code",
      "metadata": {
        "id": "R33IDo4ppGQK"
      },
      "source": [
        "from pycrfsuite_spacing import PyCRFSuiteSpacing\n",
        "\n",
        "correct = PyCRFSuiteSpacing(\n",
        "    to_feature = to_feature,\n",
        "    feature_minfreq=3, # default = 0\n",
        "    max_iterations=100,\n",
        "    l1_cost=1.0,\n",
        "    l2_cost=1.0\n",
        ")\n",
        "correct.train(docs, '/content/drive/MyDrive/Colab Notebooks/data/demo_model.crfsuite')"
      ],
      "execution_count": null,
      "outputs": []
    },
    {
      "cell_type": "code",
      "metadata": {
        "id": "IRtFceCYtkfL"
      },
      "source": [
        "#PyCRFSuiteSpacing 모델 학습.\n",
        "#arguments\n",
        "#feautre_minfreq -> 기본값은 0, 지나치게 작으면 features 개수가 커짐. 메모리가 많이 필요하니 적절한 수준으로 잡아준다.\n",
        "#max_itrations -> 기본값은 100\n",
        "#l1_cost,l2_cost\n",
        "#기본값은 각각 0, Lasso CRF 를 이용하려면 l2_cost=0,l1_cost>0 으로 설정.\n",
        "#L1,L2 reqularization 을 모두 이용하려면 l1_cost>0 & l2_cost >0 으로 설정."
      ],
      "execution_count": null,
      "outputs": []
    },
    {
      "cell_type": "code",
      "metadata": {
        "id": "alU_Rv1DxUSs"
      },
      "source": [
        "#학습된 모델 demo_model.crfsuite 불러오기 load_tagger"
      ],
      "execution_count": null,
      "outputs": []
    },
    {
      "cell_type": "code",
      "metadata": {
        "id": "ax60vmYepqay"
      },
      "source": [
        "#correct.load_tagger('/content/drive/MyDrive/Colab Notebooks/data/demo_model.crfsuite')"
      ],
      "execution_count": null,
      "outputs": []
    },
    {
      "cell_type": "code",
      "metadata": {
        "colab": {
          "base_uri": "https://localhost:8080/",
          "height": 35
        },
        "id": "i-glEItwpxlR",
        "outputId": "d47de452-c319-42f6-9089-e5ab9f8ae4d3"
      },
      "source": [
        "correct('이건진짜좋은영화라라랜드진짜좋은영화')"
      ],
      "execution_count": null,
      "outputs": [
        {
          "output_type": "execute_result",
          "data": {
            "application/vnd.google.colaboratory.intrinsic+json": {
              "type": "string"
            },
            "text/plain": [
              "'이건 진짜 좋은 영화 라라랜드 진짜 좋은 영화'"
            ]
          },
          "metadata": {},
          "execution_count": 33
        }
      ]
    },
    {
      "cell_type": "code",
      "metadata": {
        "colab": {
          "base_uri": "https://localhost:8080/",
          "height": 35
        },
        "id": "QQ2PpIpspzpy",
        "outputId": "5614a7f0-7ccc-4d74-d8eb-eb8a01d3a508"
      },
      "source": [
        "correct('나는오늘짝궁과밥을먹었다')"
      ],
      "execution_count": null,
      "outputs": [
        {
          "output_type": "execute_result",
          "data": {
            "application/vnd.google.colaboratory.intrinsic+json": {
              "type": "string"
            },
            "text/plain": [
              "'나는 오늘짝궁과밥을먹었다'"
            ]
          },
          "metadata": {},
          "execution_count": 34
        }
      ]
    },
    {
      "cell_type": "code",
      "metadata": {
        "colab": {
          "base_uri": "https://localhost:8080/",
          "height": 35
        },
        "id": "K8W6ub7BqCYB",
        "outputId": "6b6783b0-f863-4cd0-cac1-1c31e207f77c"
      },
      "source": [
        "correct('하이빅스비')"
      ],
      "execution_count": null,
      "outputs": [
        {
          "output_type": "execute_result",
          "data": {
            "application/vnd.google.colaboratory.intrinsic+json": {
              "type": "string"
            },
            "text/plain": [
              "'하이빅스비'"
            ]
          },
          "metadata": {},
          "execution_count": 35
        }
      ]
    },
    {
      "cell_type": "code",
      "metadata": {
        "colab": {
          "base_uri": "https://localhost:8080/",
          "height": 35
        },
        "id": "TlhchNrEqLC7",
        "outputId": "26972fa6-01c7-4326-d8ea-3617d4b6cb4f"
      },
      "source": [
        "correct('이것도너프해보시지')"
      ],
      "execution_count": null,
      "outputs": [
        {
          "output_type": "execute_result",
          "data": {
            "application/vnd.google.colaboratory.intrinsic+json": {
              "type": "string"
            },
            "text/plain": [
              "'이것도 너프해보시지'"
            ]
          },
          "metadata": {},
          "execution_count": 36
        }
      ]
    },
    {
      "cell_type": "code",
      "metadata": {
        "colab": {
          "base_uri": "https://localhost:8080/",
          "height": 35
        },
        "id": "mEa-T2R0qSoD",
        "outputId": "a71146f7-cf02-4958-d5ee-a7b541a54b1a"
      },
      "source": [
        "correct(docs[1])"
      ],
      "execution_count": null,
      "outputs": [
        {
          "output_type": "execute_result",
          "data": {
            "application/vnd.google.colaboratory.intrinsic+json": {
              "type": "string"
            },
            "text/plain": [
              "'사랑과 꿈 그 흐름의 아름다움을 음악과 영상으로 최대한 담아놓았다 배우들 연기는 두말할것없고'"
            ]
          },
          "metadata": {},
          "execution_count": 37
        }
      ]
    },
    {
      "cell_type": "code",
      "metadata": {
        "colab": {
          "base_uri": "https://localhost:8080/",
          "height": 35
        },
        "id": "BbTEv9ZOrHBC",
        "outputId": "25f9183a-7605-4543-d69d-3df3bf4bb891"
      },
      "source": [
        "correct('사랑과꿈그흐름의아름다움을음악과영상으로최대한담아놓았다배우들연기는두말할것없고')"
      ],
      "execution_count": null,
      "outputs": [
        {
          "output_type": "execute_result",
          "data": {
            "application/vnd.google.colaboratory.intrinsic+json": {
              "type": "string"
            },
            "text/plain": [
              "'사랑과 꿈그 흐름의 아름다움을 음악과 영상으로 최대한 담아놓았다 배우들 연기는 두말할것없고'"
            ]
          },
          "metadata": {},
          "execution_count": 38
        }
      ]
    },
    {
      "cell_type": "code",
      "metadata": {
        "colab": {
          "base_uri": "https://localhost:8080/",
          "height": 35
        },
        "id": "bXm6AEMorT4F",
        "outputId": "a7e5de1a-3873-44df-a8e0-97ff7981cc58"
      },
      "source": [
        "correct('사랑과꿈그흐름의아름다움을음악과영상으로최대한담아놓았다배우들연기는두말할것없고')"
      ],
      "execution_count": null,
      "outputs": [
        {
          "output_type": "execute_result",
          "data": {
            "application/vnd.google.colaboratory.intrinsic+json": {
              "type": "string"
            },
            "text/plain": [
              "'사랑과 꿈그 흐름의 아름다움을 음악과 영상으로 최대한 담아놓았다 배우들 연기는 두말할것없고'"
            ]
          },
          "metadata": {},
          "execution_count": 39
        }
      ]
    },
    {
      "cell_type": "code",
      "metadata": {
        "id": "7MQc4Umgro7p"
      },
      "source": [
        "from pycrfsuite_spacing import PyCRFSuiteSpacing\n",
        "\n",
        "model_path = '/content/drive/MyDrive/Colab Notebooks/data/demo_model.crfsuite'\n",
        "correct = PyCRFSuiteSpacing(to_feature)\n",
        "correct.train(docs, model_path)"
      ],
      "execution_count": null,
      "outputs": []
    },
    {
      "cell_type": "code",
      "metadata": {
        "id": "ycUlp_rb1c4j"
      },
      "source": [
        "#https://github.com/lovit/soyspacing/blob/master/tutorials/count-base_spacing_tutorial.ipynb"
      ],
      "execution_count": null,
      "outputs": []
    },
    {
      "cell_type": "code",
      "metadata": {
        "id": "k5N3jJFi5F_k"
      },
      "source": [
        ""
      ],
      "execution_count": null,
      "outputs": []
    }
  ]
}